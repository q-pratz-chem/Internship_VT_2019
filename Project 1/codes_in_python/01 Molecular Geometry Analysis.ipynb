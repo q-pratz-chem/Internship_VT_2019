{
 "cells": [
  {
   "cell_type": "markdown",
   "id": "431ae86f",
   "metadata": {},
   "source": [
    "# Molecular-Geometry-Analysis\n",
    "### Code Author: Pratiksha Balasaheb Gaikwad"
   ]
  },
  {
   "cell_type": "code",
   "execution_count": 1,
   "id": "95ab662b",
   "metadata": {},
   "outputs": [],
   "source": [
    "import numpy as np\n",
    "import re"
   ]
  },
  {
   "cell_type": "code",
   "execution_count": 2,
   "id": "d52e4ee7",
   "metadata": {},
   "outputs": [],
   "source": [
    "output = open('1_output.txt', 'w')"
   ]
  },
  {
   "cell_type": "markdown",
   "id": "8987c89c",
   "metadata": {},
   "source": [
    "### Step 1: Read the Coordinate Data from Input"
   ]
  },
  {
   "cell_type": "code",
   "execution_count": 3,
   "id": "00d3320a",
   "metadata": {},
   "outputs": [
    {
     "data": {
      "text/plain": [
       "335"
      ]
     },
     "execution_count": 3,
     "metadata": {},
     "output_type": "execute_result"
    }
   ],
   "source": [
    "f = open('acetaldehyde_input.txt', 'r')\n",
    "\n",
    "# read first line == total number of electrons in molecule\n",
    "natoms = int(f.readline()) \n",
    "geom = np.zeros((natoms,3))\n",
    "# unpack the atomic numbers and x, y, z coordinates\n",
    "# from the above file object 'f'\n",
    "atom_num, geom[:,0], geom[:,1],geom[:,2] = np.loadtxt(f, unpack = True)\n",
    "atom_num = atom_num.astype(int)\n",
    "\n",
    "# Write to the output file\n",
    "output.write(f\"Number of atoms: {natoms}\")\n",
    "output.write(\"\\nInput cartesian coordinates: \\n\")\n",
    "\n",
    "coords = np.array(list(zip(atom_num, geom[:,0],geom[:,1],geom[:,2])))\n",
    "output.write(re.sub('( \\[|\\[|\\])', '', str(coords)))\n"
   ]
  },
  {
   "cell_type": "markdown",
   "id": "cb292ca0",
   "metadata": {},
   "source": [
    "### Step 2: Bond Lengths"
   ]
  },
  {
   "cell_type": "code",
   "execution_count": 4,
   "id": "1291c4c4",
   "metadata": {},
   "outputs": [],
   "source": [
    "output.write(\"\\n\\nInteratomic distances: \\n\")\n",
    "output.write(\"\\natom1 \\t atom2 \\t Bond length (Bohr)\\n\")\n",
    "R = np.zeros([natoms,natoms])\n",
    "\n",
    "for i in np.arange(0, natoms):\n",
    "    for j in np.arange(0, i, 1):\n",
    "        x = (geom[j][0] -geom[i][0]);\n",
    "        y = (geom[j][1] -geom[i][1]);\n",
    "        z = (geom[j][2] -geom[i][2]);\n",
    "\n",
    "        R[i][j] = np.sqrt(x**2 + y**2 + z**2 )\n",
    "        output.write(f\"\\n{i} \\t {j} \\t {R[i][j]}\")\n",
    " \n",
    "# Distance matrix should be symmetric\n",
    "for i in np.arange(0, natoms):\n",
    "    for j in np.arange(0, i, 1):\n",
    "        R[j][i] = R[i][j]\n"
   ]
  },
  {
   "cell_type": "markdown",
   "id": "e217f854",
   "metadata": {},
   "source": [
    "### Step 3: Bond Angles"
   ]
  },
  {
   "cell_type": "code",
   "execution_count": 5,
   "id": "42ec1cc7",
   "metadata": {},
   "outputs": [],
   "source": [
    "def uvector(dim, atom1, atom2):\n",
    "    if R[atom1][atom2] == 0:\n",
    "        return 0\n",
    "    else:\n",
    "        return -(geom[atom1][dim] - geom[atom2][dim])/R[atom1][atom2]"
   ]
  },
  {
   "cell_type": "code",
   "execution_count": 6,
   "id": "fbd6efc9",
   "metadata": {},
   "outputs": [],
   "source": [
    "def bond_angle(i,j,k):\n",
    "    return np.arccos(uvector(0,j,i)*uvector(0,j,k) + uvector(1,j,i)*uvector(1,j,k) + uvector(2,j,i)*uvector(2,j,k))"
   ]
  },
  {
   "cell_type": "code",
   "execution_count": 7,
   "id": "3adf3ba7",
   "metadata": {},
   "outputs": [],
   "source": [
    "output.write(\"\\n\\nBond Angles \\n\")\n",
    "for i in np.arange(0, natoms):\n",
    "    for j in np.arange(0, i):\n",
    "        for k in np.arange(0,j):\n",
    "            if (R[k][j] < 4.0 and R[j][i] < 4.0):\n",
    "                \n",
    "                output.write(f\"{i}-{j}-{k} \\t {bond_angle(i,j,k)*180.0/np.arccos(-1.0)}\\n\")\n",
    "        "
   ]
  },
  {
   "cell_type": "markdown",
   "id": "9e1c882c",
   "metadata": {},
   "source": [
    "### Step 4: Out-of-Plane Angles"
   ]
  },
  {
   "cell_type": "code",
   "execution_count": 8,
   "id": "13e39fff",
   "metadata": {},
   "outputs": [],
   "source": [
    "#A_outofplane = np.array()\n",
    "\n",
    "# Calculate cross product\n",
    "output.write(\"\\n\\nOut-of-Plane Angles \\n\")\n",
    "for i in np.arange(0, natoms):\n",
    "    for k in np.arange(0, natoms):\n",
    "        for j in np.arange(0, natoms):\n",
    "            for l in np.arange(0, j):\n",
    "                ejkl_x = uvector(1, k,j)*uvector(2,k,l) - uvector(2,k,j)*uvector(1,k,l)\n",
    "                ejkl_y = uvector(2, k,j)*uvector(0,k,l) - uvector(0,k,j)*uvector(2,k,l)\n",
    "                ejkl_z = uvector(0, k,j)*uvector(1,k,l) - uvector(1,k,j)*uvector(0,k,l)\n",
    " \n",
    "                exx = ejkl_x * uvector(0,k,i)\n",
    "                eyy = ejkl_y * uvector(1,k,i)\n",
    "                ezz = ejkl_z * uvector(2,k,i)\n",
    "                \n",
    "                theta = (exx + eyy + ezz)/np.sin(bond_angle(j,k,l))\n",
    "                \n",
    "                if theta < -1.0:\n",
    "                    A_outofplane = np.arcsin(-1.0)\n",
    "                elif theta > 1.0:\n",
    "                    A_outofplane = np.arcsin(1.0)\n",
    "                else: \n",
    "                    A_outofplane = np.arcsin(theta)\n",
    "                \n",
    "                if (i!=j and i!=k and i!=l and j!=k  and j!=l and k!=l and \n",
    "                    R[i][k] < 4.0 and R[k][j] < 4.0 and R[k][l] < 4.0):\n",
    "\n",
    "                    output.write(f\"{i}-{j}-{k}-{l} \\t {A_outofplane*180.0/np.arccos(-1.0)}\\n\")\n",
    "                    "
   ]
  },
  {
   "cell_type": "markdown",
   "id": "ca100ccd",
   "metadata": {},
   "source": [
    "### Step 5: Torsion/Dihedral Angles"
   ]
  },
  {
   "cell_type": "code",
   "execution_count": 9,
   "id": "93238650",
   "metadata": {},
   "outputs": [],
   "source": [
    "\n",
    "output.write(\"\\n\\nTorsion/Dihedral Angles \\n\")\n",
    "for i in np.arange(0, natoms):\n",
    "    for j in np.arange(0, i):\n",
    "        for k in np.arange(0, j):\n",
    "            for l in np.arange(0, k):\n",
    "                eijk_x = uvector(1, j,i)*uvector(2,j,k) - uvector(2,j,i)*uvector(1,j,k)\n",
    "                eijk_y = uvector(2, j,i)*uvector(0,j,k) - uvector(0,j,i)*uvector(2,j,k)\n",
    "                eijk_z = uvector(0, j,i)*uvector(1,j,k) - uvector(1,j,i)*uvector(0,j,k)\n",
    "                \n",
    "                ejkl_x = uvector(1, k,j)*uvector(2,k,l) - uvector(2,k,j)*uvector(1,k,l)\n",
    "                ejkl_y = uvector(2, k,j)*uvector(0,k,l) - uvector(0,k,j)*uvector(2,k,l)\n",
    "                ejkl_z = uvector(0, k,j)*uvector(1,k,l) - uvector(1,k,j)*uvector(0,k,l)\n",
    "                \n",
    "                exx = eijk_x * ejkl_x\n",
    "                eyy = eijk_y * ejkl_y\n",
    "                ezz = eijk_z * ejkl_z\n",
    "                \n",
    "                #if np.sin(bond_angle(i,j,k))!= 0 and np.sin(bond_angle(j,k,l)) != 0:\n",
    "                tau = (exx + eyy + ezz)/(np.sin(bond_angle(i,j,k))*np.sin(bond_angle(j,k,l)))\n",
    "                if tau < (-1.0):\n",
    "                    tau = np.arccos(-1.0)\n",
    "                elif tau > 1.0:\n",
    "                    tau = np.arccos(1.0)\n",
    "                else: \n",
    "                    tau = np.arccos(tau)\n",
    "                    \n",
    "                rsltx = eijk_y * ejkl_z - eijk_z * ejkl_y\n",
    "                rslty = eijk_z * ejkl_x - eijk_x * ejkl_z\n",
    "                rsltz = eijk_x * ejkl_y - eijk_y * ejkl_x\n",
    "                \n",
    "                norm = rsltx**2 + rslty**2 + rsltz**2\n",
    "                if norm != 0:\n",
    "                    rsltx /= norm\n",
    "                    rslty /= norm\n",
    "                    rsltz /= norm\n",
    "\n",
    "                dot_prdct = rsltx*uvector(0,j,k) + rslty*uvector(1,j,k) + rsltz*uvector(2,j,k)\n",
    "                \n",
    "                if dot_prdct < 0.0:\n",
    "                    tau = tau*-1.0\n",
    "                \n",
    "                if (R[i][j] < 4.0 and R[j][k] < 4.0 and R[k][l] < 4.0):\n",
    "                    output.write(f\"{i}-{j}-{k}-{l} \\t {tau*180.0/np.arccos(-1.0)}\\n\")"
   ]
  },
  {
   "cell_type": "markdown",
   "id": "13d347fe",
   "metadata": {},
   "source": [
    "### Step 6: Center-of-Mass  Translation"
   ]
  },
  {
   "cell_type": "code",
   "execution_count": 10,
   "id": "17d045ac",
   "metadata": {},
   "outputs": [],
   "source": [
    "def assign_mass(atom_num):\n",
    "    if atom_num == 1:\n",
    "        return 1.00782503223\n",
    "    elif atom_num == 6:\n",
    "        return 12.0\n",
    "    elif atom_num == 8:\n",
    "        return 15.99491461957"
   ]
  },
  {
   "cell_type": "code",
   "execution_count": 11,
   "id": "99f2a9df",
   "metadata": {},
   "outputs": [],
   "source": [
    "def translate(Xcm, Ycm, Zcm):\n",
    "    geom[:,0] -= Xcm\n",
    "    geom[:,1] -= Ycm\n",
    "    geom[:,2] -= Zcm"
   ]
  },
  {
   "cell_type": "code",
   "execution_count": 12,
   "id": "2a15e3fd",
   "metadata": {},
   "outputs": [
    {
     "data": {
      "text/plain": [
       "64"
      ]
     },
     "execution_count": 12,
     "metadata": {},
     "output_type": "execute_result"
    }
   ],
   "source": [
    "mass = np.zeros(natoms)\n",
    "for i in range(natoms):\n",
    "    mass[i] = assign_mass(atom_num[i])\n",
    "\n",
    "sumx = 0.0\n",
    "sumy = 0.0\n",
    "sumz = 0.0\n",
    "for i in range(natoms):\n",
    "    sumx += mass[i]*geom[i][0]    \n",
    "    sumy += mass[i]*geom[i][1]    \n",
    "    sumz += mass[i]*geom[i][2]\n",
    "    \n",
    "Xcm = sumx/sum(mass)\n",
    "Ycm = sumy/sum(mass)\n",
    "Zcm = sumz/sum(mass)\n",
    "\n",
    "\n",
    "# Translate the coordinates according to COM\n",
    "translate(Xcm, Ycm, Zcm)\n",
    "output.write(\"\\n\\nMolecular center of mass:\\n\")\n",
    "output.write(f\"Xcm = {Xcm} \\t Ycm = {Ycm} \\t Zcm = {Zcm}\\n\")"
   ]
  },
  {
   "cell_type": "markdown",
   "id": "847396f2",
   "metadata": {},
   "source": [
    "### Step 7: Principal Moments of Inertia"
   ]
  },
  {
   "cell_type": "code",
   "execution_count": 13,
   "id": "a23c3447",
   "metadata": {},
   "outputs": [
    {
     "data": {
      "text/plain": [
       "70"
      ]
     },
     "execution_count": 13,
     "metadata": {},
     "output_type": "execute_result"
    }
   ],
   "source": [
    "MoI = np.zeros((3,3))\n",
    "output.write(\"\\n\\nMoment of Inertia (amu bohr^2):\\n\")\n",
    "\n",
    "MoI[0][0] += sum(mass*(geom[:,1]**2+geom[:,2]**2))\n",
    "MoI[1][1] += sum(mass*(geom[:,0]**2+geom[:,2]**2))\n",
    "MoI[2][2] += sum(mass*(geom[:,0]**2+geom[:,1]**2))\n",
    "MoI[0][1] = - sum(mass*geom[:,0]*geom[:,1])\n",
    "MoI[1][2] = -sum(mass*geom[:,1]*geom[:,2])\n",
    "MoI[2][0] = -sum(mass*geom[:,2]*geom[:,0])\n",
    "\n",
    "MoI[1][0] = MoI[0][1]\n",
    "MoI[2][1] = MoI[1][2]\n",
    "MoI[0][2] = MoI[2][0]\n",
    "\n",
    "for i in range(3):\n",
    "    output.write(f\"{MoI[i][0]} \\t {MoI[i][1]} \\t {MoI[i][2]}\\n\")\n",
    "\n",
    "    \n",
    "eigvals, eigvecs = np.linalg.eig(MoI)\n",
    "eigvals = np.sort(eigvals)\n",
    "output.write(\"\\n\\nPrincipal Moment of Intertia (amu bohr^2)\\n\")\n",
    "output.write(f\"{eigvals[0]} \\t {eigvals[1]} \\t {eigvals[2]}\\n\")\n",
    "\n",
    "conv_factr = 0.529177210903 * 0.529177210903 #amu to angstrom\n",
    "output.write(\"\\n\\nPrincipal Moment of Intertia (amu AA^2)\\n\")\n",
    "evals = eigvals*conv_factr\n",
    "output.write(f\"{evals[0]} \\t {evals[1]} \\t {evals[2]}\\n\")\n",
    "\n",
    "\n",
    "conv = 1.6605402E-24 * 0.529177249E-8 * 0.529177249E-8;\n",
    "output.write(\"\\n\\nPrincipal Moment of Intertia (g cm^2)\\n\")\n",
    "evals = eigvals*conv\n",
    "output.write(f\"{evals[0]} \\t {evals[1]} \\t {evals[2]}\\n\")\n"
   ]
  },
  {
   "cell_type": "code",
   "execution_count": 14,
   "id": "6feec36a",
   "metadata": {},
   "outputs": [],
   "source": [
    "# Classification of Rotor\n",
    "if (natoms ==2):\n",
    "    output.write(\"\\nMolecule is diatomic.\\n\")\n",
    "elif (eigvals[0]< 1e-4):\n",
    "    output.write(\"\\nMolecule is linear.\\n\")\n",
    "elif (abs(eigvals[0]-eigvals[1]) < 1e-4 and abs(eigvals[1]-eigvals[2]) < 1e-4):\n",
    "    output.write(\"\\nMolecule is spherical top.\\n\")\n",
    "elif (abs(eigvals[0]-eigvals[1]) < 1e-4 and abs(eigvals[1]-eigvals[2]) > 1e-4):\n",
    "    output.write(\"\\nMolecule is an oblate symmetric top.\\n\")\n",
    "elif (abs(eigvals[0]-eigvals[1]) > 1e-4 and abs(eigvals[1]-eigvals[2]) < 1e-4):\n",
    "    output.write(\"\\nMolecule is a prolate symmetric top.\\n\")\n",
    "else:\n",
    "    output.write(\"\\nMolecule is an asymmetric top.\\n\")\n"
   ]
  },
  {
   "cell_type": "code",
   "execution_count": 15,
   "id": "71f96951",
   "metadata": {},
   "outputs": [],
   "source": [
    "f.close()\n",
    "output.close()"
   ]
  },
  {
   "cell_type": "code",
   "execution_count": null,
   "id": "ad1ab649",
   "metadata": {},
   "outputs": [],
   "source": []
  }
 ],
 "metadata": {
  "kernelspec": {
   "display_name": "Python 3 (ipykernel)",
   "language": "python",
   "name": "python3"
  },
  "language_info": {
   "codemirror_mode": {
    "name": "ipython",
    "version": 3
   },
   "file_extension": ".py",
   "mimetype": "text/x-python",
   "name": "python",
   "nbconvert_exporter": "python",
   "pygments_lexer": "ipython3",
   "version": "3.9.7"
  }
 },
 "nbformat": 4,
 "nbformat_minor": 5
}
